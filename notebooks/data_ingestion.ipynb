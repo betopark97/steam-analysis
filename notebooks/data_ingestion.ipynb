{
 "cells": [
  {
   "cell_type": "markdown",
   "metadata": {},
   "source": [
    "# Imports"
   ]
  },
  {
   "cell_type": "code",
   "execution_count": null,
   "metadata": {},
   "outputs": [],
   "source": [
    "# System\n",
    "import os\n",
    "from pathlib import Path\n",
    "from dotenv import load_dotenv\n",
    "import importlib\n",
    "import sys\n",
    "\n",
    "# Data Management\n",
    "from typing import Optional, Dict, Any\n",
    "from pydantic import BaseModel, Field\n",
    "import time\n",
    "import random\n",
    "import json\n",
    "\n",
    "# Data Science\n",
    "import pandas as pd\n",
    "import polars as pl\n",
    "import duckdb\n",
    "\n",
    "# API Interactions\n",
    "import requests\n",
    "from tqdm.notebook import tqdm"
   ]
  },
  {
   "cell_type": "code",
   "execution_count": null,
   "metadata": {},
   "outputs": [],
   "source": [
    "# At the top of your notebook\n",
    "import importlib\n",
    "import sys\n",
    "from pathlib import Path\n",
    "\n",
    "# Add project root to path\n",
    "sys.path.append(str(Path.cwd().parent))\n",
    "\n",
    "# Import your modules\n",
    "from src import steam_api_manager\n",
    "from src import mongo_manager"
   ]
  },
  {
   "cell_type": "markdown",
   "metadata": {},
   "source": [
    "# Configurations"
   ]
  },
  {
   "cell_type": "code",
   "execution_count": null,
   "metadata": {},
   "outputs": [],
   "source": [
    "# Load Environment Variables\n",
    "load_dotenv()\n",
    "\n",
    "# When you need to reload after changes\n",
    "importlib.reload(steam_api_manager)\n",
    "importlib.reload(mongo_manager)\n",
    "\n",
    "# Get fresh instances of your classes\n",
    "steam_api = steam_api_manager.SteamAPIManager()\n",
    "mongo_manager = mongo_manager.MongoManager()"
   ]
  },
  {
   "cell_type": "markdown",
   "metadata": {},
   "source": [
    "# Layer (Bronze): MongoDB"
   ]
  },
  {
   "cell_type": "markdown",
   "metadata": {},
   "source": [
    "## Extract & Load Data"
   ]
  },
  {
   "cell_type": "markdown",
   "metadata": {},
   "source": [
    "1. Get App Names"
   ]
  },
  {
   "cell_type": "code",
   "execution_count": null,
   "metadata": {},
   "outputs": [],
   "source": [
    "app_names = steam_api.get_app_names()"
   ]
  },
  {
   "cell_type": "markdown",
   "metadata": {},
   "source": [
    "2. Update App Names"
   ]
  },
  {
   "cell_type": "code",
   "execution_count": null,
   "metadata": {},
   "outputs": [],
   "source": [
    "mongo_manager.update_app_names(app_names)"
   ]
  },
  {
   "cell_type": "markdown",
   "metadata": {},
   "source": [
    "3. Check App Names"
   ]
  },
  {
   "cell_type": "code",
   "execution_count": null,
   "metadata": {},
   "outputs": [],
   "source": [
    "df_names = pl.LazyFrame(mongo_manager.database.names.find({}, {'_id':0, 'appid':1, 'name':1}))\n",
    "# Initialize names collection dataframe\n",
    "df_filtered = (\n",
    "    df_names\n",
    "    # .unique(subset='appid', keep='first')\n",
    "    .filter(pl.col('name').str.len_chars() == 0)\n",
    "    # .filter(pl.col('appid').is_duplicated())\n",
    ")\n",
    "df_filtered.collect()"
   ]
  },
  {
   "cell_type": "markdown",
   "metadata": {},
   "source": [
    "## Get App Details"
   ]
  },
  {
   "cell_type": "markdown",
   "metadata": {},
   "source": [
    "Compare with MongoDB for upsert logic: \n",
    "\n",
    "1. Always have to update all apps details\n",
    "2. Later have to change the upsert logic"
   ]
  },
  {
   "cell_type": "code",
   "execution_count": null,
   "metadata": {},
   "outputs": [],
   "source": [
    "# All appids from names collection\n",
    "df_names = pl.LazyFrame(mongo_manager.database.names.find({}, {'_id':0, 'appid':1}))\n",
    "# All appids from details collection\n",
    "df_details = pl.LazyFrame(mongo_manager.database.details.find({}, {'_id':0, 'appid':1}))\n",
    "# All appids from no_details collection\n",
    "df_no_details = pl.LazyFrame(mongo_manager.database.no_details.find({}, {'_id':0, 'appid':1}))\n",
    "\n",
    "# Make union of details and no details appids\n",
    "if df_no_details.collect().height > 0:\n",
    "    df_details = pl.concat([df_details, df_no_details], how='vertical')\n",
    "\n",
    "# Perform EXCEPT logic to find appids that need to be updated\n",
    "df_except = df_names.join(df_details, on='appid', how='anti')\n",
    "update_detail_appids = df_except.collect().to_series().to_list()\n",
    "\n",
    "print(f\"{len(update_detail_appids) = }\")\n"
   ]
  },
  {
   "cell_type": "markdown",
   "metadata": {},
   "source": [
    "Get app details and load to mongodb"
   ]
  },
  {
   "cell_type": "code",
   "execution_count": null,
   "metadata": {},
   "outputs": [],
   "source": [
    "for appid in tqdm(update_detail_appids, desc=\"Updating Collection: details\"):\n",
    "    app_details = steam_api.get_app_details(appid)\n",
    "    mongo_manager.update_app_details(appid, app_details)"
   ]
  },
  {
   "cell_type": "markdown",
   "metadata": {},
   "source": [
    "## Get App Tags"
   ]
  },
  {
   "cell_type": "markdown",
   "metadata": {},
   "source": [
    "Compare with MongoDB for upsert logic:\n",
    "1. only update appids from app details that are in: ['game', 'dlc', 'demo', 'series', 'episode', 'music', 'mod']"
   ]
  },
  {
   "cell_type": "code",
   "execution_count": null,
   "metadata": {},
   "outputs": [],
   "source": [
    "# All apids from details collection\n",
    "df_details = (\n",
    "    pl.LazyFrame(mongo_manager.database.details.find(\n",
    "        {}, {'_id':0, 'appid':1, 'type': 1, 'release_date.coming_soon': 1}\n",
    "    ))\n",
    "    .with_columns([\n",
    "        pl.col(\"release_date\").struct.field(\"coming_soon\").alias(\"release_date.coming_soon\")\n",
    "    ])\n",
    "    .select([\"appid\", \"type\", \"release_date.coming_soon\"])\n",
    ")\n",
    "\n",
    "# All appids from tags collection\n",
    "df_tags = (pl.LazyFrame(mongo_manager.database.tags.find({}, {'_id':0, 'appid':1})))\n",
    "\n",
    "# Filter appids from details collection where detail types are used\n",
    "df_details_filtered = (\n",
    "    df_details\n",
    "    .filter(\n",
    "        (pl.col('type') == 'game') &\n",
    "        ~(pl.col('release_date.coming_soon'))\n",
    "    )\n",
    "    .select(['appid'])\n",
    ")\n",
    "\n",
    "if df_tags.collect().shape[0] > 0:\n",
    "    df_except = df_details_filtered.join(df_tags, on='appid', how='anti')\n",
    "    update_tag_appids = df_except.collect().to_series().to_list()\n",
    "else:\n",
    "    update_tag_appids = df_details_filtered.collect().to_series().to_list()\n",
    "\n",
    "print(f\"{len(update_tag_appids) = }\")"
   ]
  },
  {
   "cell_type": "markdown",
   "metadata": {},
   "source": [
    "Get app tags and load to mongodb"
   ]
  },
  {
   "cell_type": "code",
   "execution_count": null,
   "metadata": {},
   "outputs": [],
   "source": [
    "for appid in tqdm(update_tag_appids, desc=\"Updating Collection: tags\"):\n",
    "    app_tags = steam_api.get_app_tags(appid)\n",
    "    mongo_manager.update_app_tags(appid, app_tags)"
   ]
  },
  {
   "cell_type": "markdown",
   "metadata": {},
   "source": [
    "## Get App Reviews"
   ]
  },
  {
   "cell_type": "markdown",
   "metadata": {},
   "source": [
    "Compare with MongoDB for upsert logic: \n",
    "1. only update appids from app details that are in: ['game', 'dlc', 'demo', 'series', 'episode', 'music', 'mod']"
   ]
  },
  {
   "cell_type": "code",
   "execution_count": null,
   "metadata": {},
   "outputs": [],
   "source": [
    "# All appids from details collection\n",
    "df_details = (\n",
    "    pl.LazyFrame(mongo_manager.database.details.find(\n",
    "        {}, {'_id':0, 'appid':1, 'type': 1, 'release_date.coming_soon': 1}\n",
    "    ))\n",
    "    .with_columns([\n",
    "        pl.col(\"release_date\").struct.field(\"coming_soon\").alias(\"release_date.coming_soon\")\n",
    "    ])\n",
    "    .select([\"appid\", \"type\", \"release_date.coming_soon\"])\n",
    ")\n",
    "\n",
    "# All appids from reviews collection\n",
    "df_reviews = pl.LazyFrame(mongo_manager.database.reviews.find({}, {'_id':0, 'appid':1}))\n",
    "\n",
    "# Filter appids from details collection where detail types are used\n",
    "df_details_filtered = (\n",
    "    df_details\n",
    "        (pl.col('type') == 'game') &\n",
    "        ~(pl.col('release_date.coming_soon'))\n",
    ")\n",
    "\n",
    "# Perform EXCEPT logic to find appids that need to be updated\n",
    "if df_reviews.collect().shape[0] > 0:\n",
    "    df_except = df_details_filtered.join(df_reviews, on='appid', how='anti')\n",
    "    update_review_appids = df_except.collect().to_series().to_list()\n",
    "else:\n",
    "    update_review_appids = df_details_filtered.collect().to_series().to_list()\n",
    "\n",
    "print(f\"{len(update_review_appids) = }\")"
   ]
  },
  {
   "cell_type": "markdown",
   "metadata": {},
   "source": [
    "Get app reviews and load to mongodb"
   ]
  },
  {
   "cell_type": "code",
   "execution_count": null,
   "metadata": {},
   "outputs": [],
   "source": [
    "for appid in tqdm(update_review_appids, desc=\"Updating Collection: reviews\"):\n",
    "    app_reviews = steam_api.get_app_reviews(appid)\n",
    "    mongo_manager.update_app_reviews(appid, app_reviews)"
   ]
  },
  {
   "cell_type": "code",
   "execution_count": null,
   "metadata": {},
   "outputs": [],
   "source": []
  }
 ],
 "metadata": {
  "kernelspec": {
   "display_name": ".venv",
   "language": "python",
   "name": "python3"
  },
  "language_info": {
   "codemirror_mode": {
    "name": "ipython",
    "version": 3
   },
   "file_extension": ".py",
   "mimetype": "text/x-python",
   "name": "python",
   "nbconvert_exporter": "python",
   "pygments_lexer": "ipython3",
   "version": "3.12.7"
  }
 },
 "nbformat": 4,
 "nbformat_minor": 2
}
