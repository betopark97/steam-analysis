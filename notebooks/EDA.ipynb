{
 "cells": [
  {
   "cell_type": "markdown",
   "id": "6b22e92c",
   "metadata": {},
   "source": [
    "# Imports"
   ]
  },
  {
   "cell_type": "code",
   "execution_count": 1,
   "id": "f568e048",
   "metadata": {},
   "outputs": [],
   "source": [
    "# System\n",
    "import os\n",
    "from pathlib import Path\n",
    "from dotenv import load_dotenv\n",
    "import importlib\n",
    "import sys\n",
    "\n",
    "# Data Management\n",
    "from typing import Optional, Dict, List, Any\n",
    "from pydantic import BaseModel, Field\n",
    "import time\n",
    "import random\n",
    "import json\n",
    "from bson import json_util\n",
    "import bson\n",
    "import re\n",
    "import difflib\n",
    "from bs4 import BeautifulSoup\n",
    "import unicodedata\n",
    "\n",
    "# Data Science\n",
    "import numpy as np\n",
    "import pandas as pd\n",
    "import polars as pl\n",
    "import missingno as msno\n",
    "import flatten_json\n",
    "\n",
    "# API Interactions\n",
    "import requests\n",
    "from tqdm.notebook import tqdm\n",
    "\n",
    "\n",
    "# Ignore warnings\n",
    "from bs4 import MarkupResemblesLocatorWarning\n",
    "import warnings\n",
    "\n",
    "warnings.filterwarnings(\"ignore\", category=MarkupResemblesLocatorWarning)"
   ]
  },
  {
   "cell_type": "code",
   "execution_count": 2,
   "id": "2d0f5a34",
   "metadata": {},
   "outputs": [],
   "source": [
    "# At the top of your notebook\n",
    "import importlib\n",
    "\n",
    "# Add project root to path\n",
    "sys.path.append(str(Path.cwd().parent))\n",
    "\n",
    "# Import your modules\n",
    "from src import steam_api_manager\n",
    "from src import mongo_manager"
   ]
  },
  {
   "cell_type": "markdown",
   "id": "66b970ca",
   "metadata": {},
   "source": [
    "# Configuration"
   ]
  },
  {
   "cell_type": "code",
   "execution_count": 3,
   "id": "92f6cb5a",
   "metadata": {},
   "outputs": [],
   "source": [
    "# Load Environment Variables\n",
    "load_dotenv()\n",
    "\n",
    "# When you need to reload after changes\n",
    "importlib.reload(steam_api_manager)\n",
    "importlib.reload(mongo_manager)\n",
    "\n",
    "# Get fresh instances of your classes\n",
    "steam_api = steam_api_manager.SteamAPIManager()\n",
    "mongo_manager = mongo_manager.MongoManager()"
   ]
  },
  {
   "cell_type": "markdown",
   "id": "9943c820",
   "metadata": {},
   "source": [
    "# EDA for Silver Layer"
   ]
  },
  {
   "cell_type": "markdown",
   "id": "b67d5f56",
   "metadata": {},
   "source": [
    "## Read Data from MongoDB"
   ]
  },
  {
   "cell_type": "code",
   "execution_count": null,
   "id": "72d57132",
   "metadata": {},
   "outputs": [],
   "source": [
    "# For exploring smaller sizes\n",
    "\n",
    "# Fetch documents\n",
    "cursor = mongo_manager.database.details.find()    # or remove `.limit(10)` to get all\n",
    "\n",
    "# Convert BSON to JSON-compatible (handles ObjectId, etc.)\n",
    "parsed_docs = json.loads(json_util.dumps(list(cursor)))\n",
    "\n",
    "df = pd.json_normalize(parsed_docs)\n",
    "df"
   ]
  },
  {
   "cell_type": "markdown",
   "id": "428c1261",
   "metadata": {},
   "source": [
    "## Check for missing data"
   ]
  },
  {
   "cell_type": "code",
   "execution_count": null,
   "id": "99b3309a",
   "metadata": {},
   "outputs": [],
   "source": [
    "msno.bar(df, sort='ascending')"
   ]
  },
  {
   "cell_type": "markdown",
   "id": "6e255739",
   "metadata": {},
   "source": [
    "There seems to be a column called `alternative_appid`, which may be a problem when normalizing because appid is the primary key. \n",
    "\n",
    "However, as seen below they are all from the same `advertising` type and most of the `alternate_appid`s return false api results."
   ]
  },
  {
   "cell_type": "code",
   "execution_count": null,
   "id": "d1db9af2",
   "metadata": {},
   "outputs": [],
   "source": [
    "df.loc[df['alternate_appid'].notna(), ['appid', 'alternate_appid', 'name', 'type']]"
   ]
  },
  {
   "cell_type": "markdown",
   "id": "8d249a0d",
   "metadata": {},
   "source": [
    "## Super Category: Type"
   ]
  },
  {
   "cell_type": "code",
   "execution_count": null,
   "id": "1b41b67f",
   "metadata": {},
   "outputs": [],
   "source": [
    "df['type'].value_counts(dropna=False)"
   ]
  },
  {
   "cell_type": "markdown",
   "id": "00b0fbfa",
   "metadata": {},
   "source": [
    "Sample from each category"
   ]
  },
  {
   "cell_type": "code",
   "execution_count": null,
   "id": "7626cccd",
   "metadata": {},
   "outputs": [],
   "source": [
    "df_sample_type = df.groupby('type', group_keys=False).apply(lambda x: x.sample(n=1, random_state=42))\n",
    "df_sample_type"
   ]
  },
  {
   "cell_type": "markdown",
   "id": "e3adca71",
   "metadata": {},
   "source": [
    "Using:\n",
    "\n",
    "- `game`: In Steam, a \"game type\" or \"genre\" refers to **a classification system that describes the core gameplay mechanics of a game**. These classifications help users browse and discover games based on their preferred style of play. Steam uses a range of tags and categories to describe games, going beyond simple genres like \"Action\" or \"RPG\" to include subgenres and additional features.\n",
    "- `dlc`: DLC stands for downloadable content. It refers to **additional digital content that players can download and add to a video game after its initial release**. Game developers use DLC to expand and enhance the gaming experience by providing new storylines, challenges, characters, weapons, or cosmetic items.\n",
    "- `demo`: Demos can range in size and scope, but generally are a small playable portion of your game that show some of the core mechanics and leave the player excited for more.\n",
    "- `episode`: In Steam, an \"episode type\" typically refers to **a game that is released in individual chapters or installments**, often referred to as episodes. These games are sold and downloaded separately, usually representing a single segment of the overall story or gameplay experience.\n",
    "- `series`: In Steam, a \"series\" refers to **a type of game grouping or collection, allowing users to organize their library by thematic categories like \"series\" or \"franchises\"**. These groupings can be used to easily find all the games within a particular series, like the \"Grand Theft Auto\" series.\n",
    "- `music`: In the context of Steam, \"music type\" refers to **the category or genre of music available for purchase as standalone products or as DLC for games**. Steam allows users to buy and download music albums, individual songs, or soundtracks that may accompany games or be available separately as standalone music apps.\n",
    "- `mod`: In the context of Steam, a \"mod\" refers to **a modification or alteration made to a video game by a user or fan, typically to change how it looks, plays, or behaves**. These modifications are often shared and distributed through the [**Steam Workshop**](https://store.steampowered.com/about/communitymods/) platform.\n",
    "\n",
    "Not using:\n",
    "\n",
    "- `video`: In the context of Steam, \"video type\" refers to **the format in which a video file is stored, which can be used for game recording, streaming, or other features**. Steam typically uses the m4s format for background recordings and clips, but users can export these recordings as MP4 files. For streaming, Steam can use various video codecs like VP8, VP9, or AV1, and recommends using VP9 or AV1 for optimal quality.\n",
    "- `advertising`: There are only three which all redirect to the same appid which is from the column `alternative_appid` 402590 (update: they are useless data as the website doesn't return anything for the alternative_appids and it's not important data.)\n",
    "- `hardware`: 1696780 the following is a website for steamdeckdock, which is like a nintendo switch or psp for steam"
   ]
  },
  {
   "cell_type": "markdown",
   "id": "50354116",
   "metadata": {},
   "source": [
    "## Filter by Type"
   ]
  },
  {
   "cell_type": "code",
   "execution_count": null,
   "id": "6b08f170",
   "metadata": {},
   "outputs": [],
   "source": [
    "df_filtered = df.loc[\n",
    "    (df['type'].isin(['game', 'dlc', 'demo', 'series', 'episode', 'music', 'mod']))\n",
    "].copy()\n",
    "df_filtered"
   ]
  },
  {
   "cell_type": "code",
   "execution_count": null,
   "id": "af3f0cbf",
   "metadata": {},
   "outputs": [],
   "source": [
    "msno.bar(df_filtered, sort='ascending')"
   ]
  },
  {
   "cell_type": "markdown",
   "id": "b52008e4",
   "metadata": {},
   "source": [
    "## EDA for 100% available columns"
   ]
  },
  {
   "cell_type": "markdown",
   "id": "1d16c810",
   "metadata": {},
   "source": [
    "Looks like the following are common for all rows:\n",
    "\n",
    "appid, required_age, released_date.date, support_info.url, platforms.linux, platforms.mac, platforms.windows\n",
    "support_info.email, content_descriptors.ids, release_date.coming_soon, type, steam_appid, short_description, \n",
    "_id.$oid, background, detailed_description, package_groups, background_raw, capsule_image, capsule_imagev5,\n",
    "about_the_game, header_image, is_free, name,"
   ]
  },
  {
   "cell_type": "code",
   "execution_count": null,
   "id": "5b57e496",
   "metadata": {},
   "outputs": [],
   "source": [
    "df_filtered"
   ]
  },
  {
   "cell_type": "markdown",
   "id": "b33b1c22",
   "metadata": {},
   "source": [
    "## Descriptions about the game"
   ]
  },
  {
   "cell_type": "markdown",
   "id": "4dddaa66",
   "metadata": {},
   "source": [
    "check for differences between `about_the_game` and `detailed_description`"
   ]
  },
  {
   "cell_type": "code",
   "execution_count": null,
   "id": "4a8dc9af",
   "metadata": {},
   "outputs": [],
   "source": [
    "import pandas as pd\n",
    "import difflib\n",
    "from bs4 import BeautifulSoup\n",
    "\n",
    "\n",
    "def remove_html_tags(text):\n",
    "    soup = BeautifulSoup(text or \"\", \"html.parser\")\n",
    "    return soup.get_text(separator=\" \").strip()\n",
    "\n",
    "# Define your function\n",
    "def get_only_in_a_vs_b(a, b):\n",
    "    a_lines = (a or \"\").splitlines()\n",
    "    b_lines = (b or \"\").splitlines()\n",
    "    diff = list(difflib.ndiff(a_lines, b_lines))\n",
    "\n",
    "    only_in_a = \"\\n\".join([line[2:] for line in diff if line.startswith(\"- \")])\n",
    "    only_in_b = \"\\n\".join([line[2:] for line in diff if line.startswith(\"+ \")])\n",
    "    has_diff = bool(only_in_a or only_in_b)\n",
    "    \n",
    "    return pd.Series([has_diff, only_in_a, only_in_b])\n",
    "\n",
    "df_diff_check = df_filtered.loc[:,['appid', 'about_the_game', 'detailed_description']].copy()\n",
    "df_diff_check['about_the_game'] = df_diff_check['about_the_game'].apply(remove_html_tags)\n",
    "df_diff_check['detailed_description'] = df_diff_check['detailed_description'].apply(remove_html_tags)\n",
    "\n",
    "# Apply to your specific DataFrame\n",
    "df_diff_check[['has_diff', 'only_in_about', 'only_in_detailed']] = df_diff_check.apply(\n",
    "    lambda row: get_only_in_a_vs_b(row[\"about_the_game\"], row[\"detailed_description\"]),\n",
    "    axis=1\n",
    ")"
   ]
  },
  {
   "cell_type": "code",
   "execution_count": null,
   "id": "893781dc",
   "metadata": {},
   "outputs": [],
   "source": [
    "df_diff_check.loc[df_diff_check['has_diff'] == True]"
   ]
  },
  {
   "cell_type": "markdown",
   "id": "53ff0225",
   "metadata": {},
   "source": [
    "## Required Age & Release Date Filtering"
   ]
  },
  {
   "cell_type": "markdown",
   "id": "267edbce",
   "metadata": {},
   "source": [
    "check unique values for required_age and sample for cleaning"
   ]
  },
  {
   "cell_type": "code",
   "execution_count": null,
   "id": "9b2e964c",
   "metadata": {},
   "outputs": [],
   "source": [
    "df_filtered['required_age'].unique()"
   ]
  },
  {
   "cell_type": "markdown",
   "id": "9ea9637e",
   "metadata": {},
   "source": [
    "sample different age values"
   ]
  },
  {
   "cell_type": "code",
   "execution_count": null,
   "id": "59bb2018",
   "metadata": {},
   "outputs": [],
   "source": [
    "df_sample_age = df_filtered.groupby('required_age', group_keys=False).apply(lambda x: x.sample(n=1, random_state=42))\n",
    "df_sample_age.loc[:, ['appid', 'name', 'short_description', 'required_age']]"
   ]
  },
  {
   "cell_type": "code",
   "execution_count": null,
   "id": "2098dc5e",
   "metadata": {},
   "outputs": [],
   "source": [
    "df_filtered.loc[df_filtered['required_age'] == '6', ['appid', 'name', 'short_description', 'required_age']]"
   ]
  },
  {
   "cell_type": "markdown",
   "id": "36d4b379",
   "metadata": {},
   "source": [
    "check for the `ratings` nests to see if the esrb and other age ratings include useful information"
   ]
  },
  {
   "cell_type": "code",
   "execution_count": null,
   "id": "f470d7af",
   "metadata": {},
   "outputs": [],
   "source": [
    "cols_ratings = [col for col in df_filtered.columns if 'ratings' in col]\n",
    "df_ratings = df_filtered[['appid', 'required_age', *cols_ratings]]\n",
    "df_ratings.loc[df_ratings['ratings.esrb.rating'].notna()]"
   ]
  },
  {
   "cell_type": "markdown",
   "id": "0ab6a0c3",
   "metadata": {},
   "source": [
    "we can see that a lot of the columns that are something like ratings.*.descriptors say violence, sex, drugs, etc. but when you check, most of the games do not have that kind of information when other columns like ratings.*.required_age is low. that's why the columns that start with ratings, only the ones that end with required_age will be taken into consideration.\n",
    "\n",
    "\n",
    "for example: `appid`: 3586970 shows Adult Only content but the `required_age` is set to 0 and it can be seen that it is not a published game yet, so we might have to filter add a filter to the `released_date` column too."
   ]
  },
  {
   "cell_type": "code",
   "execution_count": null,
   "id": "cbf1de29",
   "metadata": {},
   "outputs": [],
   "source": [
    "print(df_filtered['release_date.coming_soon'].unique())\n",
    "print(df_filtered['release_date.date'].unique())"
   ]
  },
  {
   "cell_type": "code",
   "execution_count": null,
   "id": "4f51bf28",
   "metadata": {},
   "outputs": [],
   "source": [
    "release_date_values = list(\n",
    "    df_filtered['release_date.date']\n",
    "    .drop_duplicates(keep='first')\n",
    "    .sort_values(ascending=False)\n",
    "    .reset_index(drop=True)\n",
    ")\n",
    "pd.DataFrame(release_date_values)"
   ]
  },
  {
   "cell_type": "markdown",
   "id": "faadef9e",
   "metadata": {},
   "source": [
    "try to make a boolean column to see if the column is ISO 8601 compatible or not and see which values are not compatible because there are some dates that look like: \n",
    "\n",
    "- 'November 2027' which could be truncated to Nov 01, 2027\n",
    "- just text like: 'Coming Soon', 'maybe' etc.\n",
    "- or other formats but still having date info like:  '9/mai./2017', '9. Sep. 2019', '9 maj, 2016', '9 listopada 2015',\n",
    "- and other formats that look like quarters and even dates that haven't come yet: Q4 2030\n",
    "\n",
    "try to clean as much date info to capture as much data as possible.\n",
    "\n",
    "either use ISO8601 or a custom date format like: '%d %b, %Y' to make it YYYY-MM-DD"
   ]
  },
  {
   "cell_type": "code",
   "execution_count": null,
   "id": "866bfacb",
   "metadata": {},
   "outputs": [],
   "source": [
    "df_clean_dates = df_filtered.copy()\n",
    "\n",
    "df_clean_dates['is_iso8601'] = pd.to_datetime(df_clean_dates['release_date.date'], format='%d %b, %Y', errors='coerce').notna()\n",
    "df_clean_dates['release_date'] = pd.to_datetime(df_clean_dates['release_date.date'], format='%d %b, %Y', errors='coerce').dt.date\n",
    "df_clean_dates = df_clean_dates.loc[:, ['appid', 'name', 'type', 'release_date.date', 'release_date', 'release_date.coming_soon', 'is_iso8601']]\n",
    "\n",
    "df_clean_dates.loc[df_clean_dates['is_iso8601'] == False]"
   ]
  },
  {
   "cell_type": "markdown",
   "id": "0c88a64a",
   "metadata": {},
   "source": [
    "another filter will be added for `release_date.coming_soon` because the project will try to analyze games that are released and their performance or whatnot."
   ]
  },
  {
   "cell_type": "code",
   "execution_count": null,
   "id": "beac8fe4",
   "metadata": {},
   "outputs": [],
   "source": [
    "df_clean_dates.loc[\n",
    "    (df_clean_dates['is_iso8601'] == False) & \n",
    "    (df_clean_dates['release_date.coming_soon'] == False)\n",
    "]"
   ]
  },
  {
   "cell_type": "markdown",
   "id": "8ae528e8",
   "metadata": {},
   "source": [
    "there are a lot of apps that have been released but the `release_date.date` is an empty string.  \n",
    "when checking the website though, it appears that these games do have a release date.  \n",
    "some options are to just exclude these because it's a small proportion of the data but for precise analysis, webscraping the release dates for these apps would be the better option.\n",
    "\n",
    "one thing for sure is that another filter will be:\n",
    "`release_date.coming_soon` == False"
   ]
  },
  {
   "cell_type": "code",
   "execution_count": null,
   "id": "5aec1492",
   "metadata": {},
   "outputs": [],
   "source": [
    "df_filtered = df_filtered.loc[df_filtered['release_date.coming_soon'] == False]"
   ]
  },
  {
   "cell_type": "markdown",
   "id": "79df2df5",
   "metadata": {},
   "source": [
    "now go back to check for the `ratings` nests to see if the esrb and other age ratings include useful information\n",
    "\n",
    "this time the columns will only be included if it has `*.required_age` and not all `ratings` columns"
   ]
  },
  {
   "cell_type": "code",
   "execution_count": null,
   "id": "5a8b6fdf",
   "metadata": {},
   "outputs": [],
   "source": [
    "cols_required_age = [col for col in df_filtered.columns if 'required_age' in col]\n",
    "df_filtered.loc[:, ['appid', 'name', 'release_date.date', *cols_required_age]]"
   ]
  },
  {
   "cell_type": "markdown",
   "id": "04adafa9",
   "metadata": {},
   "source": [
    "it can be seen from `appid`: 2166370 that even if the `release_date.date` has ISO 8601 compatibility and `required_age` is 0 it is still for adults, so the `ratings.*.required_age` will be very useful in filtering these adult games that have `required_age` set to 0."
   ]
  },
  {
   "cell_type": "code",
   "execution_count": null,
   "id": "75197152",
   "metadata": {},
   "outputs": [],
   "source": [
    "df_filtered.loc[df_filtered['required_age'] == 0, ['appid', 'name', 'release_date.date', *cols_required_age]]"
   ]
  },
  {
   "cell_type": "markdown",
   "id": "aed90c4a",
   "metadata": {},
   "source": [
    "try to replace the `required_age` with the maximum number from the columns that include `ratings.*.required_age` if `required_age` is 0, however, there are some cases like with appid 2165210 where `ratings.steam_germany.required_age` is 2147483647 so the maximum and minimum numbers along with describe should be checked."
   ]
  },
  {
   "cell_type": "code",
   "execution_count": null,
   "id": "9ae9d2cc",
   "metadata": {},
   "outputs": [],
   "source": [
    "df_filtered.loc[:, ['appid', 'name', *cols_required_age]].describe()"
   ]
  },
  {
   "cell_type": "markdown",
   "id": "7c422233",
   "metadata": {},
   "source": [
    "change all the `required_age` columns to integers first"
   ]
  },
  {
   "cell_type": "code",
   "execution_count": null,
   "id": "c5064744",
   "metadata": {},
   "outputs": [],
   "source": [
    "df_required_age = df_filtered.loc[:, ['appid', 'name', *cols_required_age]]\n",
    "\n",
    "values_in_ages_columns = []\n",
    "\n",
    "for col in df_required_age.columns[2:]:\n",
    "    values_in_ages_columns.extend(df_required_age[col].unique())\n",
    "\n",
    "set(values_in_ages_columns)"
   ]
  },
  {
   "cell_type": "code",
   "execution_count": null,
   "id": "4a6864c5",
   "metadata": {},
   "outputs": [],
   "source": [
    "df_required_age[df_required_age.isin([\n",
    "    '35',\n",
    "    'Project Winter Item Store', \n",
    "    \"They're mp3s\", \n",
    "    \"javascript:ToggleCheckbox('checkbox_app_game_ratings_csrr_use_age_gate_');18\",\n",
    "    'Any sound card',\n",
    "    'M',\n",
    "    'Free',\n",
    "    '１８',\n",
    "    '13+',\n",
    "    \"javascript:ToggleCheckbox('checkbox_app_game_ratings_esrb_use_age_gate_');\",\n",
    "    \"javascript:ToggleCheckbox('checkbox_app_game_ratings_oflc_use_age_gate_')12\",\n",
    "    \"17javascript:ToggleCheckbox('checkbox_app_game_ratings_kgrb_use_age_gate_');\",\n",
    "    '99'\n",
    "    ]).any(axis=1)]"
   ]
  },
  {
   "cell_type": "markdown",
   "id": "11d4dd6f",
   "metadata": {},
   "source": [
    "after having checked all age ranges, it can be seen that if any value is not a number or an empty string, it will be converted to 0, the strings that has the javascript:ToggleCheckbox has some digits, like: \n",
    "- \"javascript:ToggleCheckbox('checkbox_app_game_ratings_oflc_use_age_gate_')12\"\n",
    "- \"17javascript:ToggleCheckbox('checkbox_app_game_ratings_kgrb_use_age_gate_');\"\n",
    "- \"javascript:ToggleCheckbox('checkbox_app_game_ratings_csrr_use_age_gate_');18\"\n",
    "\n",
    "however, it seems that they have no value after check the apps. \n",
    "\n",
    "then there are also really big values and they also have no value so the range will be 0~21.\n",
    "\n",
    "the steps to clean up the ages are:\n",
    "1. normalize with unicodedata (appid=1587290)\n",
    "2. remove '+' (appid=1328670)\n",
    "3. user pd.to_numeric to convert to integers\n",
    "4. convert nan to 0\n",
    "5. convert to integers\n",
    "6. remove all values less than 0 or greater than 21"
   ]
  },
  {
   "cell_type": "code",
   "execution_count": null,
   "id": "97cf8c73",
   "metadata": {},
   "outputs": [],
   "source": [
    "import unicodedata\n",
    "\n",
    "def normalize_strings(value: Any) -> Any:\n",
    "    if isinstance(value, str):\n",
    "        return unicodedata.normalize('NFKC', value).strip()\n",
    "    return value\n",
    "\n",
    "def normalize_strings_df(df: pd.DataFrame) -> pd.DataFrame:\n",
    "    return df.map(normalize_strings)\n",
    "\n",
    "def remove_plus_sign(value: Any) -> Any:\n",
    "    if isinstance(value, str):\n",
    "        return value.replace('+', '')\n",
    "    return value\n",
    "\n",
    "def remove_plus_sign_df(df: pd.DataFrame, cols: list) -> pd.DataFrame:\n",
    "    for col in cols:\n",
    "        df[col] = df[col].map(remove_plus_sign)\n",
    "    return df\n",
    "\n",
    "def convert_age_to_int_df(df: pd.DataFrame, cols: list) -> pd.DataFrame:\n",
    "    for col in cols:\n",
    "        df[col] = pd.to_numeric(df[col], errors='coerce')\n",
    "        df[col] = df[col].fillna(0).astype('int64')\n",
    "    return df\n",
    "\n",
    "df_cleaned_required_ages = (\n",
    "    df_filtered\n",
    "    .pipe(normalize_strings_df)\n",
    "    .pipe(remove_plus_sign_df, cols=[col for col in df_filtered.columns if 'required_age' in col])\n",
    "    .pipe(convert_age_to_int_df, cols=[col for col in df_filtered.columns if 'required_age' in col])\n",
    ")\n",
    "\n",
    "df_cleaned_required_ages"
   ]
  },
  {
   "cell_type": "code",
   "execution_count": null,
   "id": "fea0ff0d",
   "metadata": {},
   "outputs": [],
   "source": [
    "df_check_required_ages = df_cleaned_required_ages.loc[:, ['appid', 'name', *cols_required_age]]\n",
    "\n",
    "values_in_ages_columns = []\n",
    "\n",
    "for col in df_check_required_ages.columns[2:]:\n",
    "    values_in_ages_columns.extend(df_check_required_ages[col].unique())\n",
    "\n",
    "set(values_in_ages_columns)"
   ]
  },
  {
   "cell_type": "code",
   "execution_count": null,
   "id": "e493a7a0",
   "metadata": {},
   "outputs": [],
   "source": [
    "df_cleaned_required_ages"
   ]
  },
  {
   "cell_type": "code",
   "execution_count": null,
   "id": "5e6f9969",
   "metadata": {},
   "outputs": [],
   "source": [
    "msno.bar(df_cleaned_required_ages, sort='ascending')"
   ]
  },
  {
   "cell_type": "markdown",
   "id": "25c7beca",
   "metadata": {},
   "source": [
    "there are some games where the highest age is 18 but doesn't actually seem for adults, after looking at the reviews, it might be rated like that because of the in-game risks, so this method of classifying the game as the highest age from the `required_age` columns is good enough"
   ]
  },
  {
   "cell_type": "code",
   "execution_count": null,
   "id": "5dddfe8d",
   "metadata": {},
   "outputs": [],
   "source": [
    "df_filtered.loc[df_filtered['appid'] == 8500]"
   ]
  },
  {
   "cell_type": "markdown",
   "id": "44833548",
   "metadata": {},
   "source": [
    "also some games just happend to have `required_age` 0 with notes about the game having violence or sexual content, but this is because it is a demo or dlc while their game does have the correct age maybe in a `ratings.*.required_age` column"
   ]
  },
  {
   "cell_type": "code",
   "execution_count": null,
   "id": "f76a5c45",
   "metadata": {},
   "outputs": [],
   "source": [
    "df_filtered.loc[df_filtered['appid'] == 2126680]"
   ]
  },
  {
   "cell_type": "markdown",
   "id": "eb3dceaf",
   "metadata": {},
   "source": [
    "# EDA for Silver Layer 2"
   ]
  },
  {
   "cell_type": "markdown",
   "id": "0274d713",
   "metadata": {},
   "source": [
    "## Columns to drop"
   ]
  },
  {
   "cell_type": "markdown",
   "id": "2a2bae4f",
   "metadata": {},
   "source": [
    "before continuing to drill down, it would be a good moment to drop columns that are not necessary.\n",
    "after analyzing some columns, now there is some understanding of what columns are important.\n",
    "\n",
    "columns to remove until now:\n",
    "- `_id.$oid`\n",
    "- `steam_appid`\n",
    "- `alternate_appid`\n",
    "- `capsule_imagev5`\n",
    "- `capsule_image`\n",
    "- `metacritic.score`\n",
    "- `metacritic.url`\n"
   ]
  },
  {
   "cell_type": "code",
   "execution_count": null,
   "id": "5a0ce2a4",
   "metadata": {},
   "outputs": [],
   "source": [
    "df_dropped_columns = df.drop(columns=[\n",
    "    '_id.$oid',\n",
    "    'steam_appid',\n",
    "    'alternate_appid',\n",
    "    'capsule_imagev5',\n",
    "    'capsule_image',\n",
    "    'metacritic.score',\n",
    "    'metacritic.url',\n",
    "    'drm_notice',\n",
    "    *[col for col in df.columns if 'ratings.' in col and 'required_age' not in col]\n",
    "])\n",
    "df_filtered = df_dropped_columns.loc[\n",
    "    (df_dropped_columns['type'].isin(['game', 'dlc', 'demo', 'series', 'episode', 'music', 'mod'])) &\n",
    "    (df_dropped_columns['release_date.coming_soon'] == False)\n",
    "]\n",
    "df_filtered"
   ]
  },
  {
   "cell_type": "markdown",
   "id": "cd597532",
   "metadata": {},
   "source": [
    "## Fullgame columns"
   ]
  },
  {
   "cell_type": "markdown",
   "id": "57f7c653",
   "metadata": {},
   "source": [
    "there are columns that start with `fullgame` and has other appid and name so it feels like these may be reference to the game if the type of the app is not game (like dlc, demo, etc)."
   ]
  },
  {
   "cell_type": "code",
   "execution_count": null,
   "id": "4e2a4b01",
   "metadata": {},
   "outputs": [],
   "source": [
    "df_filtered.loc[\n",
    "    (df_filtered['type'] == 'game') &\n",
    "    ((df_filtered['fullgame.name'].notna()) | (df_filtered['fullgame.appid'].notna()))\n",
    "]"
   ]
  },
  {
   "cell_type": "markdown",
   "id": "62a41f5a",
   "metadata": {},
   "source": [
    "there were a lot of rows that were other type than game that had values for `fullgame.name` or `fullgame.appid`, but from thee code above it can be seen that if the type is game, then these columns are null, so it does prove the point."
   ]
  },
  {
   "cell_type": "markdown",
   "id": "3b11baf7",
   "metadata": {},
   "source": [
    "## Prices and Recurring Prices"
   ]
  },
  {
   "cell_type": "markdown",
   "id": "8d8371eb",
   "metadata": {},
   "source": [
    "after looking at some values for the columns with price_overview (which have so many null values), it felt a little weird to include these but it is more like these are subscription types."
   ]
  },
  {
   "cell_type": "code",
   "execution_count": null,
   "id": "076c03b1",
   "metadata": {},
   "outputs": [],
   "source": [
    "print(f\"{df_filtered['price_overview.recurring_sub'].unique() = }\")\n",
    "print(f\"{df_filtered['price_overview.recurring_sub_desc'].unique() = }\")"
   ]
  },
  {
   "cell_type": "code",
   "execution_count": null,
   "id": "de8e756e",
   "metadata": {},
   "outputs": [],
   "source": [
    "df_filtered.loc[df_filtered['price_overview.recurring_sub'].notnull()]"
   ]
  },
  {
   "cell_type": "markdown",
   "id": "41e4e7b3",
   "metadata": {},
   "source": [
    "after checking for `price_overview.recurring_sub*` (checked about 5) and only one (235883) seems to have subscription, it would be safe to remove the subscription related columns, as prices even with subscription are the same prices"
   ]
  },
  {
   "cell_type": "markdown",
   "id": "01ea2e01",
   "metadata": {},
   "source": [
    "there are other columns that are related to the prices so collect the columns related to prices and check which ones should be removed or merged"
   ]
  },
  {
   "cell_type": "code",
   "execution_count": null,
   "id": "80fd57a8",
   "metadata": {},
   "outputs": [],
   "source": [
    "cols_prices = [\n",
    "    'is_free', \n",
    "    *[df for df in df_filtered.columns if 'price_overview.' in df]\n",
    "]\n",
    "\n",
    "df_filtered.loc[:, ['appid', 'name', *cols_prices]]"
   ]
  },
  {
   "cell_type": "markdown",
   "id": "a58df439",
   "metadata": {},
   "source": [
    "the `is_free` column may be helpful for filtering in the dashboard.\n",
    "\n",
    "any price column that has to do with discount will be removed because this project is not near close to realtime data it will not gather historical data but only with up to date data so columns that will be removed will be:  \n",
    "`price_overview.final`, `price_overview.discount`, `price_overview.final_formatted`\n",
    "\n",
    "it seems that the columns that are left are `price_overview_currency`, `price_overview.initial`, and `price_overview.initial_formatted`, however the Korean currency seems to have an error in which there seems to be two more 0 at the end and so in the future maybe the location of the account should be changed to the US or EU. it seems that it's not only krw but all other currencies need a repositioning of the exponent, divided by 100 (move the decimal two to the left)"
   ]
  },
  {
   "cell_type": "code",
   "execution_count": null,
   "id": "7167a882",
   "metadata": {},
   "outputs": [],
   "source": [
    "df_filtered.loc[df_filtered['price_overview.currency'] != 'KRW', ['appid', 'name', *cols_prices]]"
   ]
  },
  {
   "cell_type": "code",
   "execution_count": null,
   "id": "9360fe29",
   "metadata": {},
   "outputs": [],
   "source": [
    "def extract_numeric_amounts(value: Any) -> float:\n",
    "    if value is np.nan:\n",
    "        return value\n",
    "    value = str(value)\n",
    "    cleaned = re.sub(r\"[^\\d,\\.]\", \"\", value)\n",
    "    cleaned = cleaned.replace(',', '.')\n",
    "    if cleaned == '':\n",
    "        return np.nan\n",
    "    return float(cleaned)\n",
    "\n",
    "df_prices = df_filtered.loc[\n",
    "    (df_filtered['price_overview.currency'] != 'KRW') &\n",
    "    (df_filtered['is_free'] == False)\n",
    "    ,\n",
    "    ['appid', 'name', *cols_prices]\n",
    "]\n",
    "df_prices['price_overview.initial_formatter'] = df_prices['price_overview.initial_formatted'].apply(extract_numeric_amounts)\n",
    "df_prices.loc[\n",
    "    :, \n",
    "    [\n",
    "        'appid',\n",
    "        'name',\n",
    "        'price_overview.currency',\n",
    "        'price_overview.initial', \n",
    "        'price_overview.initial_formatted', \n",
    "        'price_overview.initial_formatter'\n",
    "    ]\n",
    "]\n"
   ]
  },
  {
   "cell_type": "markdown",
   "id": "46f67ff6",
   "metadata": {},
   "source": [
    "even though `is_free` is false, there are some games where the price is not shown like 2166440 but there are also some games like 2166240 where `release_date.coming_soon` is false but the price is not shown because it is coming soon.\n",
    "\n",
    "also there are games like 2166270 where the name of the game is not updated, nor the release date (it seems that the prototype was released before, but they are developing again) and so the price is not shown.\n",
    "\n",
    "also there are some games like 2154690, which doesn't show the price and the name does not have 'Playtest' anymore (other similar have platest or beta in the names but not anymore) and so it would be good to check for webscraping these prices although they come with the currency symbol and have to be cleaned.\n",
    "\n",
    "all in all there are a lot of values in the column `price_overview.initial_formatted` that is null so a combination of `price_overview.currency` and `price_overview.initial` / 100 will be used regarding the pricings of the game"
   ]
  },
  {
   "cell_type": "code",
   "execution_count": null,
   "id": "c626df07",
   "metadata": {},
   "outputs": [],
   "source": [
    "df_prices.loc[\n",
    "    (df_prices['price_overview.initial'].notna()) &\n",
    "    (df_prices['price_overview.initial_formatter'].notna())\n",
    "    , \n",
    "    [\n",
    "        'appid',\n",
    "        'name',\n",
    "        'price_overview.currency',\n",
    "        'price_overview.initial', \n",
    "        'price_overview.initial_formatted', \n",
    "        'price_overview.initial_formatter'\n",
    "    ]\n",
    "]"
   ]
  },
  {
   "cell_type": "markdown",
   "id": "6ae969db",
   "metadata": {},
   "source": [
    "from the above it is seem that dividing `price_overview.inital` is needed to get the correct pricing"
   ]
  },
  {
   "cell_type": "markdown",
   "id": "bf52b577",
   "metadata": {},
   "source": [
    "## Images"
   ]
  },
  {
   "cell_type": "code",
   "execution_count": null,
   "id": "5fef5024",
   "metadata": {},
   "outputs": [],
   "source": [
    "df_filtered"
   ]
  },
  {
   "cell_type": "markdown",
   "id": "354050d0",
   "metadata": {},
   "source": [
    "checking from images, `capsule_imagev5` and `capsule_image` are the same image as `header_image` but smaller, so these will be removed\n",
    "\n",
    "as for `background` it will also be removed because background_raw is the same but raw, which means it has color while background has this steam like blue grayish filter"
   ]
  },
  {
   "cell_type": "markdown",
   "id": "26f97c82",
   "metadata": {},
   "source": [
    "## Computer Specs (OS & Requirements)"
   ]
  },
  {
   "cell_type": "code",
   "execution_count": null,
   "id": "c792834a",
   "metadata": {},
   "outputs": [],
   "source": [
    "df_filtered.columns"
   ]
  },
  {
   "cell_type": "code",
   "execution_count": null,
   "id": "b8a8744d",
   "metadata": {},
   "outputs": [],
   "source": [
    "cols_computer_specs = [\n",
    "    'platforms.windows',\n",
    "    'pc_requirements',\n",
    "    'pc_requirements.minimum',\n",
    "    'pc_requirements.recommended',\n",
    "    'platforms.mac',\n",
    "    'mac_requirements',\n",
    "    'mac_requirements.minimum',\n",
    "    'mac_requirements.recommended',\n",
    "    'platforms.linux',\n",
    "    'linux_requirements',\n",
    "    'linux_requirements.minimum',\n",
    "    'linux_requirements.recommended',\n",
    "]\n",
    "df_filtered.loc[\n",
    "    :, \n",
    "    [\n",
    "        'appid',\n",
    "        'name',\n",
    "        *cols_computer_specs\n",
    "    ]\n",
    "]"
   ]
  },
  {
   "cell_type": "markdown",
   "id": "6039b379",
   "metadata": {},
   "source": [
    "it seems that `platforms.windows`, `platforms.mac`, `platforms.linux` are the ones that decide if the game is supported on windows, mac or linux and even if it says false sometimes there are some strings in columns related to that specific OS, which when inspected have only html boileplates but no actual content.\n",
    "\n",
    "even if the platform is true, the requirements seem to be empty for most parts and maybe it is because these are displayed only for the `type` games, it fills that there is a strong need to partition and do EDA for only `type` game and then add all non-game but chosen types as additional dimensional data, but first check for the remaining specs columns."
   ]
  },
  {
   "cell_type": "code",
   "execution_count": null,
   "id": "3a2091d6",
   "metadata": {},
   "outputs": [],
   "source": [
    "df_filtered.loc[\n",
    "    (df_filtered['type'] == 'game') &\n",
    "    (df_filtered['pc_requirements'].notnull()) &\n",
    "    (df_filtered['mac_requirements'].notnull()) &\n",
    "    (df_filtered['linux_requirements'].notnull())\n",
    "    , \n",
    "    [\n",
    "        'appid',\n",
    "        'name',\n",
    "        *cols_computer_specs\n",
    "    ]\n",
    "]"
   ]
  },
  {
   "cell_type": "markdown",
   "id": "68b8da2c",
   "metadata": {},
   "source": [
    "the columns `pc_requirements`, `mac_requirements`, `linux_requirements` are all empty or have just an empty string so these will be dropped for sure.\n",
    "\n",
    "even the minimum and recommended look like most are only for games that are actually published and if the requirements columns are not null it means that they are in development because the minimum and recommended are null.\n",
    "\n",
    "also even if the minimum and recommended are null, in the website it does show the minimum and recommended requirements so these might also be webscraped."
   ]
  },
  {
   "cell_type": "code",
   "execution_count": null,
   "id": "5eb35e69",
   "metadata": {},
   "outputs": [],
   "source": [
    "df_filtered.loc[\n",
    "    (df_filtered['type'] == 'game') &\n",
    "    (df_filtered['pc_requirements'].isnull()) |\n",
    "    (df_filtered['mac_requirements'].isnull()) |\n",
    "    (df_filtered['linux_requirements'].isnull())\n",
    "    , \n",
    "    [\n",
    "        'appid',\n",
    "        'name',\n",
    "        *cols_computer_specs\n",
    "    ]\n",
    "]"
   ]
  },
  {
   "cell_type": "markdown",
   "id": "07a6ddf6",
   "metadata": {},
   "source": [
    "only the columns that the `pc_requirements`, `mac_requirements`, `linux_requirements` are null, apparently have the minimum and recommended requirements, and do not have 'playtest' or 'beta' in their names so this could be considered a filter but will be just an option for now to play safe."
   ]
  },
  {
   "cell_type": "code",
   "execution_count": null,
   "id": "44c39c02",
   "metadata": {},
   "outputs": [],
   "source": [
    "df_computer_specs = (\n",
    "    df_filtered\n",
    "    .loc[:, ['appid', 'name', *cols_computer_specs]]\n",
    ")\n",
    "\n",
    "for col in cols_computer_specs:\n",
    "    df_computer_specs[col] = df_computer_specs[col].apply(lambda x: remove_html_tags(x) if isinstance(x, str) else x)\n",
    "\n",
    "df_computer_specs = df_computer_specs.drop(columns=['pc_requirements', 'mac_requirements', 'linux_requirements'])\n",
    "df_computer_specs"
   ]
  },
  {
   "cell_type": "code",
   "execution_count": null,
   "id": "4adf6c12",
   "metadata": {},
   "outputs": [],
   "source": [
    "df_computer_specs.loc[df_computer_specs['platforms.mac'] == False]"
   ]
  },
  {
   "cell_type": "markdown",
   "id": "835f3577",
   "metadata": {},
   "source": [
    "from games like 2167220 and 2166420, it seems that even when for example: `platforms.mac` is False, the `mac_requirements.minimum` and `mac_requirements.recommended` are not empty, however after checking the website, these games are not mac compatible, so it seems that `platforms.*` columns are the ones to be used as filters and convert the requirements column to null if `platforms.*` is False"
   ]
  },
  {
   "cell_type": "markdown",
   "id": "480a8521",
   "metadata": {},
   "source": [
    "## Website and Contacts & Unneeded info"
   ]
  },
  {
   "cell_type": "code",
   "execution_count": null,
   "id": "f75001ad",
   "metadata": {},
   "outputs": [],
   "source": [
    "df_filtered"
   ]
  },
  {
   "cell_type": "markdown",
   "id": "f5834794",
   "metadata": {},
   "source": [
    "`package_groups` are not needed because with types that were chosen but not game can be used to retrieve the game they belong to,\n",
    "\n",
    "`website` will not provide any useful insights for our dashboard, maybe in the future it can be seen that games that have an official website are less of an indie game but don't know if that gives us much info at the moment, \n",
    "\n",
    "`content_descriptors.ids` this is more like an inner meta data that doesn't give us much info because we don't know what the ids mean (probably linked to `content_descriptors.notes` but the notes are enough by using NLP on them),\n",
    "\n",
    "`support_info.url` and `support_info.email` also don't provide any insights for our dashboard for the same reasons as why `website` column is being dropped,\n",
    "\n",
    "`legal_notice` will be dropped for the same reasons as `website`,\n",
    "\n",
    "`packages` will be removed for the same reasons as `content_descriptors.ids` tried searching the website thinking this may be an appid reference but it seems like an inner metadata,\n",
    "\n",
    "`dlc`, `demos` will be dropped because these can be backtracked with `fullgame.appid`, and `fullgame.name` from non-game types,\n",
    "\n",
    "`fullgame.name` will be dropped because `fullgame.appid` is enough to refer to the game from non-game types,\n",
    "\n",
    "`reviews`, `ratings` have too many nulls and actual reviews and ratings are collected separately so these will be dropped too\n",
    "\n",
    "`ext_user_account_notice` has too many nulls and there is no additional information that is useful\n",
    "\n",
    "`recommendations.total` ill be dropped for the same reason as `reviews`, `ratings` as this column has too many nulls and the popularity of the game can be obtained from other sources"
   ]
  },
  {
   "cell_type": "markdown",
   "id": "ada2e775",
   "metadata": {},
   "source": [
    "## Unnesting list[dicts]"
   ]
  },
  {
   "cell_type": "code",
   "execution_count": null,
   "id": "cb90f729",
   "metadata": {},
   "outputs": [],
   "source": [
    "df_unnesting = df_filtered.copy()\n",
    "df_unnesting"
   ]
  },
  {
   "cell_type": "code",
   "execution_count": null,
   "id": "46a27c32",
   "metadata": {},
   "outputs": [],
   "source": [
    "df_unnesting = df_unnesting.loc[\n",
    "    :,\n",
    "    [\n",
    "        'appid',\n",
    "        'name',\n",
    "        'categories',\n",
    "        'genres',\n",
    "        'screenshots',\n",
    "        'movies',\n",
    "        'achievements.highlighted',\n",
    "    ]\n",
    "]\n",
    "df_unnesting"
   ]
  },
  {
   "cell_type": "markdown",
   "id": "f66de0d3",
   "metadata": {},
   "source": [
    "there are columns which have a list[dicts] that need to be unnested. the reason these were not unnested with the json_parse from the beginning is because these hold a lists with varying lengths, which was tried to unnest and would make around 4000 columns, which is too much for EDA.\n",
    "\n",
    "double click to see the markdown formatting\n",
    "\n",
    "`categories` (appid: 2167380)\n",
    "keys to be extracted: 'description'\n",
    "looks something like: \n",
    "[\n",
    "    {'description': 'Multi-player', 'id': 1} \n",
    "    {'description': 'PvP', 'id': 49}\n",
    "    {'description': 'Online PvP', 'id': 36}\n",
    "    {'description': 'Shared/Split Screen PvP', 'id': 37}\n",
    "    {'description': 'Shared/Split Screen', 'id': 24}\n",
    "    {'description': 'Full controller support', 'id': 28}\n",
    "    {'description': 'Remote Play Together', 'id': 44}\n",
    "    {'description': 'Family Sharing', 'id': 62}\n",
    "]\n",
    "will be unnested to look something like:\n",
    "[\n",
    "    'Multi-player', 'PvP', 'Online PvP', \n",
    "    'Shared/Split Screen PvP', 'Shared/Split Screen', \n",
    "    'Full controller support', 'Remote Play Together', \n",
    "    'Family Sharing'\n",
    "]\n",
    "\n",
    "`genres` (appid: 2167370)\n",
    "keys to be extracted: 'description'\n",
    "looks something like:\n",
    "[\n",
    "    {'description': 'Action', 'id': '1'}\n",
    "    {'description': 'Adventure', 'id': '25'}\n",
    "    {'description': 'Indie', 'id': '23'} \n",
    "    {'description': 'RPG', 'id': '3'}\n",
    "    {'description': 'Strategy', 'id': '2'}\n",
    "]\n",
    "will be unnested to look something like:\n",
    "[\n",
    "    'Action', 'Adventure', 'Indie', 'RPG', 'Strategy'\n",
    "]\n",
    "\n",
    "`screenshots` (appid: 2167330)\n",
    "keys to be extracted: 'path_full'\n",
    "looks something like:\n",
    "[\n",
    "    {\n",
    "        'id': 0, \n",
    "        'path_full': 'https://shared.akamai.steamstatic.com/store_item_assets/steam/apps/2167330/ss_3070f64060195ef026f35290beda1b9423143ddf.1920x1080.jpg?t=1711660624', \n",
    "        'path_thumbnail': 'https://shared.akamai.steamstatic.com/store_item_assets/steam/apps/2167330/ss_3070f64060195ef026f35290beda1b9423143ddf.600x338.jpg?t=1711660624'\n",
    "    }\n",
    "    {\n",
    "        'id': 1, \n",
    "        'path_full': 'https://shared.akamai.steamstatic.com/store_item_assets/steam/apps/2167330/ss_a78ad1478ff83176bb1eac17753909e550e750eb.1920x1080.jpg?t=1711660624', \n",
    "        'path_thumbnail': 'https://shared.akamai.steamstatic.com/store_item_assets/steam/apps/2167330/ss_a78ad1478ff83176bb1eac17753909e550e750eb.600x338.jpg?t=1711660624'\n",
    "    }\n",
    "]\n",
    "will be unnested to look something like:\n",
    "[\n",
    "    'https://shared.akamai.steamstatic.com/store_item_assets/steam/apps/2167330/ss_3070f64060195ef026f35290beda1b9423143ddf.1920x1080.jpg?t=1711660624',\n",
    "    'https://shared.akamai.steamstatic.com/store_item_assets/steam/apps/2167330/ss_a78ad1478ff83176bb1eac17753909e550e750eb.1920x1080.jpg?t=1711660624'\n",
    "]\n",
    "\n",
    "`movies` (appid: 2167380)\n",
    "keys to be extracted: 'mp4'.'max'\n",
    "looks something like:\n",
    "[\n",
    "  {\n",
    "    'highlight': True,\n",
    "    'id': 257072610,\n",
    "    'mp4': {\n",
    "      '480': 'http://video.akamai.steamstatic.com/store_trailers/257072610/movie480.mp4?t=1731398896',\n",
    "      'max': 'http://video.akamai.steamstatic.com/store_trailers/257072610/movie_max.mp4?t=1731398896'\n",
    "    },\n",
    "    'name': 'Steam Launch',\n",
    "    'thumbnail': 'https://shared.akamai.steamstatic.com/store_item_assets/steam/apps/257072610/0d5fe86b8452e81fd1f2ed13fc2a5d91ba9166f8/movie_600x337.jpg?t=1731398896',\n",
    "    'webm': {\n",
    "      '480': 'http://video.akamai.steamstatic.com/store_trailers/257072610/movie480_vp9.webm?t=1731398896',\n",
    "      'max': 'http://video.akamai.steamstatic.com/store_trailers/257072610/movie_max_vp9.webm?t=1731398896'\n",
    "    }\n",
    "  }\n",
    "  {\n",
    "    'highlight': True,\n",
    "    'id': 257063140,\n",
    "    'mp4': {\n",
    "      '480': 'http://video.akamai.steamstatic.com/store_trailers/257063140/movie480.mp4?t=1728446372',\n",
    "      'max': 'http://video.akamai.steamstatic.com/store_trailers/257063140/movie_max.mp4?t=1728446372'\n",
    "    },\n",
    "    'name': 'Ricochet Rodeo - Steam Demo',\n",
    "    'thumbnail': 'https://shared.akamai.steamstatic.com/store_item_assets/steam/apps/257063140/d06d8e94408e902ff0f225748d5158c33dc595b6/movie_600x337.jpg?t=1728446372',\n",
    "    'webm': {\n",
    "      '480': 'http://video.akamai.steamstatic.com/store_trailers/257063140/movie480_vp9.webm?t=1728446372',\n",
    "      'max': 'http://video.akamai.steamstatic.com/store_trailers/257063140/movie_max_vp9.webm?t=1728446372'\n",
    "    }\n",
    "  }\n",
    "  {\n",
    "    'highlight': False,\n",
    "    'id': 256972749,\n",
    "    'mp4': {\n",
    "      '480': 'http://video.akamai.steamstatic.com/store_trailers/256972749/movie480.mp4?t=1696137443',\n",
    "      'max': 'http://video.akamai.steamstatic.com/store_trailers/256972749/movie_max.mp4?t=1696137443'\n",
    "    },\n",
    "    'name': 'Trailer',\n",
    "    'thumbnail': 'https://shared.akamai.steamstatic.com/store_item_assets/steam/apps/256972749/movie.293x165.jpg?t=1696137443',\n",
    "    'webm': {\n",
    "      '480': 'http://video.akamai.steamstatic.com/store_trailers/256972749/movie480_vp9.webm?t=1696137443',\n",
    "      'max': 'http://video.akamai.steamstatic.com/store_trailers/256972749/movie_max_vp9.webm?t=1696137443'\n",
    "    }\n",
    "  }\n",
    "]\n",
    "will be extracted to look something like:\n",
    "[\n",
    "    'http://video.akamai.steamstatic.com/store_trailers/257072610/movie_max.mp4?t=1731398896',\n",
    "    'http://video.akamai.steamstatic.com/store_trailers/257063140/movie_max.mp4?t=1728446372',\n",
    "    'http://video.akamai.steamstatic.com/store_trailers/256972749/movie_max.mp4?t=1696137443'\n",
    "]\n",
    "\n",
    "(This will not be parsed)\n",
    "<!-- `achievements.highlighted` (appid: 2167390)\n",
    "keys to be extracted: 'name', 'path'\n",
    "that's why this column will be separated into two columns:\n",
    "  `achievements_name`, `achievements_img`\n",
    "looks something like:\n",
    "[\n",
    "  {\n",
    "    'name': 'Welcome',\n",
    "    'path': 'https://cdn.akamai.steamstatic.com/steamcommunity/public/images/apps/2167390/97d780ecbf4460758d692611b4f112bb54974b28.jpg'\n",
    "  }\n",
    "  {\n",
    "    'name': 'Into Next level',\n",
    "    'path': 'https://cdn.akamai.steamstatic.com/steamcommunity/public/images/apps/2167390/b0eff68ff0b35e279703dad7332b593bdd5caead.jpg'\n",
    "  }\n",
    "  {\n",
    "    'name': '20 Kills',\n",
    "    'path': 'https://cdn.akamai.steamstatic.com/steamcommunity/public/images/apps/2167390/0e1a9228793eff7d869ddc18e09ac95ae5616168.jpg'\n",
    "  }\n",
    "  {\n",
    "    'name': '50 Kills',\n",
    "    'path': 'https://cdn.akamai.steamstatic.com/steamcommunity/public/images/apps/2167390/13a92b6d9856f80cef744316250599c82d0a6108.jpg'\n",
    "  }\n",
    "  {\n",
    "    'name': '100 Kills',\n",
    "    'path': 'https://cdn.akamai.steamstatic.com/steamcommunity/public/images/apps/2167390/4561a9b4dea07482c45692cfc874ec3eb3426552.jpg'\n",
    "  }\n",
    "  {\n",
    "    'name': '200 Kills',\n",
    "    'path': 'https://cdn.akamai.steamstatic.com/steamcommunity/public/images/apps/2167390/06365352fbaed975e0705444894d2d79cd2e4b1d.jpg'\n",
    "  }\n",
    "  {\n",
    "    'name': '400 Kills',\n",
    "    'path': 'https://cdn.akamai.steamstatic.com/steamcommunity/public/images/apps/2167390/907c332197c74a255308975efc56236a84d2ec61.jpg'\n",
    "  }\n",
    "  {\n",
    "    'name': '666 Kills',\n",
    "    'path': 'https://cdn.akamai.steamstatic.com/steamcommunity/public/images/apps/2167390/31ba9c09299ed7547d646878398298a973639412.jpg'\n",
    "  }\n",
    "  {\n",
    "    'name': '800 Kills',\n",
    "    'path': 'https://cdn.akamai.steamstatic.com/steamcommunity/public/images/apps/2167390/0f9ff6ad2c761df4fe55af708fecd5cb05d3db37.jpg'\n",
    "  }\n",
    "  {\n",
    "    'name': '999 Kills',\n",
    "    'path': 'https://cdn.akamai.steamstatic.com/steamcommunity/public/images/apps/2167390/15b3cd618b29dd4b0c43840e558bb145f7fe3818.jpg'\n",
    "  }\n",
    "]\n",
    "will be extracted to look something like: \n",
    "`achievements_name`\n",
    "[\n",
    "  'Welcome', 'Into Next Level', '20 Kills', ...\n",
    "]\n",
    "`achievements_img`\n",
    "[\n",
    "  'https://cdn.akamai.steamstatic.com/steamcommunity/public/images/apps/2167390/97d780ecbf4460758d692611b4f112bb54974b28.jpg',\n",
    "  'https://cdn.akamai.steamstatic.com/steamcommunity/public/images/apps/2167390/b0eff68ff0b35e279703dad7332b593bdd5caead.jpg',\n",
    "  'https://cdn.akamai.steamstatic.com/steamcommunity/public/images/apps/2167390/0e1a9228793eff7d869ddc18e09ac95ae5616168.jpg',\n",
    "  ...\n",
    "] -->"
   ]
  },
  {
   "cell_type": "markdown",
   "id": "727f83ee",
   "metadata": {},
   "source": [
    "## Achievements"
   ]
  },
  {
   "cell_type": "markdown",
   "id": "d78b93e8",
   "metadata": {},
   "source": [
    "`achievements.highlighted` will not be parsed anymore"
   ]
  },
  {
   "cell_type": "code",
   "execution_count": null,
   "id": "20ea9676",
   "metadata": {},
   "outputs": [],
   "source": [
    "df_filtered"
   ]
  },
  {
   "cell_type": "markdown",
   "id": "737dc38d",
   "metadata": {},
   "source": [
    "it feels like `achievements.highlighted` might be the count of `achievements.highlighted` so this should be looked into."
   ]
  },
  {
   "cell_type": "code",
   "execution_count": null,
   "id": "6911c0cd",
   "metadata": {},
   "outputs": [],
   "source": [
    "df_achievements = df_filtered.copy()\n",
    "df_achievements['count_achievements'] = (\n",
    "    df_achievements['achievements.highlighted']\n",
    "    .apply(lambda x: len(x) if isinstance(x, list) else 0)\n",
    ")\n",
    "df_achievements.loc[\n",
    "    df_achievements['count_achievements'] > 0,\n",
    "    [\n",
    "        'appid',\n",
    "        'name',\n",
    "        'achievements.highlighted',\n",
    "        'achievements.total',\n",
    "        'count_achievements',\n",
    "    ]\n",
    "]"
   ]
  },
  {
   "cell_type": "markdown",
   "id": "f8e16077",
   "metadata": {},
   "source": [
    "kind of feels like `achievements.total` is how much of the achievements have been completed by the users, but at the same time the numbers are too low considering that max is 1384 and there are so many users, so this column will be dropped because there is no idea what value this column will have...\n",
    "\n",
    "also looking at the `count_achievements` column that was made for this exploration it is seen that the api maybe only provides up to 10 achievements, even if the game has more achievements, but this will be used just to show what kind of achievements the game has because that also gives a gist of what the game will be about"
   ]
  },
  {
   "cell_type": "markdown",
   "id": "d62dedc9",
   "metadata": {},
   "source": []
  },
  {
   "cell_type": "markdown",
   "id": "cfdcb927",
   "metadata": {},
   "source": []
  },
  {
   "cell_type": "markdown",
   "id": "ec23ec14",
   "metadata": {},
   "source": []
  },
  {
   "cell_type": "markdown",
   "id": "7e462712",
   "metadata": {},
   "source": []
  },
  {
   "cell_type": "markdown",
   "id": "d6808581",
   "metadata": {},
   "source": []
  },
  {
   "cell_type": "markdown",
   "id": "356effca",
   "metadata": {},
   "source": []
  }
 ],
 "metadata": {
  "kernelspec": {
   "display_name": ".venv",
   "language": "python",
   "name": "python3"
  },
  "language_info": {
   "codemirror_mode": {
    "name": "ipython",
    "version": 3
   },
   "file_extension": ".py",
   "mimetype": "text/x-python",
   "name": "python",
   "nbconvert_exporter": "python",
   "pygments_lexer": "ipython3",
   "version": "3.12.7"
  }
 },
 "nbformat": 4,
 "nbformat_minor": 5
}
