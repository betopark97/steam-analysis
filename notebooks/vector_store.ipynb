{
 "cells": [
  {
   "cell_type": "markdown",
   "id": "726c9f7c",
   "metadata": {},
   "source": [
    "# Imports"
   ]
  },
  {
   "cell_type": "code",
   "execution_count": 1,
   "id": "2734e090",
   "metadata": {},
   "outputs": [],
   "source": [
    "# System\n",
    "import os \n",
    "import sys\n",
    "import re\n",
    "import json\n",
    "from pathlib import Path\n",
    "from dotenv import load_dotenv\n",
    "\n",
    "# Data Type\n",
    "import json\n",
    "from textwrap import dedent\n",
    "from pprint import pprint"
   ]
  },
  {
   "cell_type": "markdown",
   "id": "3537c391",
   "metadata": {},
   "source": [
    "# Configs"
   ]
  },
  {
   "cell_type": "code",
   "execution_count": 2,
   "id": "dc93c40b",
   "metadata": {},
   "outputs": [
    {
     "name": "stdout",
     "output_type": "stream",
     "text": [
      "Project root added to path.\n",
      "Environment variables loaded: True.\n"
     ]
    }
   ],
   "source": [
    "# Add project root to path\n",
    "sys.path.append(str(Path.cwd().parent))\n",
    "print(\"Project root added to path.\")\n",
    "\n",
    "env_path = Path.cwd().parent / '.env'\n",
    "load_dotenv(dotenv_path=env_path)\n",
    "\n",
    "# Load environment variables\n",
    "print(f\"Environment variables loaded: {load_dotenv()}.\")"
   ]
  },
  {
   "cell_type": "markdown",
   "id": "3bf5e558",
   "metadata": {},
   "source": [
    "# Gemini Model"
   ]
  },
  {
   "cell_type": "code",
   "execution_count": 3,
   "id": "86e71198",
   "metadata": {},
   "outputs": [
    {
     "data": {
      "text/plain": [
       "AIMessage(content=\"Hello! Connection confirmed. 👋\\n\\nEverything looks good on my end. I'm here and ready to help whenever you are!\", additional_kwargs={}, response_metadata={'prompt_feedback': {'block_reason': 0, 'safety_ratings': []}, 'finish_reason': 'STOP', 'safety_ratings': []}, id='run--6ecea5dc-e6c8-4f11-a7f3-ff38157c80fe-0', usage_metadata={'input_tokens': 6, 'output_tokens': 26, 'total_tokens': 362, 'input_token_details': {'cache_read': 0}})"
      ]
     },
     "execution_count": 3,
     "metadata": {},
     "output_type": "execute_result"
    }
   ],
   "source": [
    "from langchain_google_genai.chat_models import ChatGoogleGenerativeAI\n",
    "\n",
    "\n",
    "model = 'gemini-2.5-flash-preview-04-17'\n",
    "\n",
    "llm = ChatGoogleGenerativeAI(\n",
    "    api_key=os.environ.get(\"GEMINI_API_KEY\"),\n",
    "    model=model, \n",
    "    temperature=0.6,\n",
    ")\n",
    "llm.invoke(\"Hello, testing connections!\")"
   ]
  },
  {
   "cell_type": "markdown",
   "id": "67d3da5e",
   "metadata": {},
   "source": [
    "# PGVector"
   ]
  },
  {
   "cell_type": "code",
   "execution_count": 11,
   "id": "871c157d",
   "metadata": {},
   "outputs": [
    {
     "data": {
      "text/plain": [
       "['3638bb2a-99ec-4aa1-a2de-93c5bf60f5ee',\n",
       " 'f24b21d6-93ec-4850-9add-6dc49d5c0ca6']"
      ]
     },
     "execution_count": 11,
     "metadata": {},
     "output_type": "execute_result"
    }
   ],
   "source": [
    "from langchain_postgres.vectorstores import PGVector\n",
    "from langchain_google_genai import GoogleGenerativeAIEmbeddings\n",
    "\n",
    "embeddings = GoogleGenerativeAIEmbeddings(\n",
    "    model=\"models/gemini-embedding-exp-03-07\",\n",
    "    google_api_key=os.environ.get(\"GEMINI_API_KEY\")\n",
    ")\n",
    "\n",
    "# See docker command above to launch a postgres instance with pgvector enabled.\n",
    "pg_user = os.environ.get('DB_USER')\n",
    "pg_password = os.environ.get('DB_PASSWORD')\n",
    "pg_db = os.environ.get('DB_NAME')\n",
    "pg_host = os.environ.get('DB_HOST')\n",
    "pg_port = os.environ.get('DB_PORT')\n",
    "schema = 'vector_store,public'\n",
    "connection = (\n",
    "    f\"postgresql+psycopg://{pg_user}:{pg_password}@{pg_host}:{pg_port}/{pg_db}\"\n",
    "    f\"?options=-csearch_path%3D{schema}\"\n",
    ")\n",
    "collection_name = \"game_embeddings\"\n",
    "distance_strategy = 'cosine'\n",
    "\n",
    "vector_store = PGVector(\n",
    "    embeddings=embeddings,\n",
    "    collection_name=collection_name,\n",
    "    connection=connection,\n",
    "    use_jsonb=True,\n",
    "    distance_strategy=distance_strategy\n",
    ")\n",
    "\n",
    "vector_store.add_texts(\n",
    "    texts=[\n",
    "        \"hello\",\n",
    "        \"world\",\n",
    "    ],\n",
    "    metadatas=[\n",
    "        {\"source\": \"hello\"},\n",
    "        {\"source\": \"world\"},\n",
    "    ]\n",
    ")"
   ]
  },
  {
   "cell_type": "code",
   "execution_count": null,
   "id": "e7e9f2a3",
   "metadata": {},
   "outputs": [],
   "source": [
    "from langchain_core.documents import Document\n",
    "\n",
    "docs = []\n",
    "\n",
    "for _, row in df.iterrows():\n",
    "    text = f\"{row['title']}\\n\\n{row['body']}\"\n",
    "    metadata = {\n",
    "        \"id\": row[\"id\"],\n",
    "        \"category\": row[\"category\"],\n",
    "        \"published_at\": str(row[\"published_at\"])\n",
    "    }\n",
    "    docs.append(Document(page_content=text, metadata=metadata))\n",
    "    \n",
    "\n",
    "vector_store.add_documents(docs)"
   ]
  },
  {
   "cell_type": "code",
   "execution_count": null,
   "id": "39cbab27",
   "metadata": {},
   "outputs": [],
   "source": []
  }
 ],
 "metadata": {
  "kernelspec": {
   "display_name": ".venv",
   "language": "python",
   "name": "python3"
  },
  "language_info": {
   "codemirror_mode": {
    "name": "ipython",
    "version": 3
   },
   "file_extension": ".py",
   "mimetype": "text/x-python",
   "name": "python",
   "nbconvert_exporter": "python",
   "pygments_lexer": "ipython3",
   "version": "3.12.7"
  }
 },
 "nbformat": 4,
 "nbformat_minor": 5
}
